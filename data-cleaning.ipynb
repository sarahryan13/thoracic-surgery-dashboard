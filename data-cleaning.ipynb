{
 "cells": [
  {
   "cell_type": "code",
   "execution_count": 18,
   "metadata": {
    "collapsed": true
   },
   "outputs": [],
   "source": [
    "# Import the tools\n",
    "import pandas as pd\n",
    "\n",
    "from scipy.io import arff\n",
    "\n",
    "# Plots will appear in the notebook\n",
    "%matplotlib inline"
   ]
  },
  {
   "cell_type": "markdown",
   "source": [
    "### Thoracic Surgery Dataset - Cleaning"
   ],
   "metadata": {
    "collapsed": false,
    "pycharm": {
     "name": "#%% md\n"
    }
   }
  },
  {
   "cell_type": "code",
   "execution_count": 19,
   "outputs": [
    {
     "data": {
      "text/plain": "       DGN  PRE4  PRE5     PRE6  PRE7  PRE8  PRE9 PRE10 PRE11    PRE14 PRE17  \\\n0  b'DGN2'  2.88  2.16  b'PRZ1'  b'F'  b'F'  b'F'  b'T'  b'T'  b'OC14'  b'F'   \n1  b'DGN3'  3.40  1.88  b'PRZ0'  b'F'  b'F'  b'F'  b'F'  b'F'  b'OC12'  b'F'   \n2  b'DGN3'  2.76  2.08  b'PRZ1'  b'F'  b'F'  b'F'  b'T'  b'F'  b'OC11'  b'F'   \n3  b'DGN3'  3.68  3.04  b'PRZ0'  b'F'  b'F'  b'F'  b'F'  b'F'  b'OC11'  b'F'   \n4  b'DGN3'  2.44  0.96  b'PRZ2'  b'F'  b'T'  b'F'  b'T'  b'T'  b'OC11'  b'F'   \n\n  PRE19 PRE25 PRE30 PRE32   AGE Risk1Yr  \n0  b'F'  b'F'  b'T'  b'F'  60.0    b'F'  \n1  b'F'  b'F'  b'T'  b'F'  51.0    b'F'  \n2  b'F'  b'F'  b'T'  b'F'  59.0    b'F'  \n3  b'F'  b'F'  b'F'  b'F'  54.0    b'F'  \n4  b'F'  b'F'  b'T'  b'F'  73.0    b'T'  ",
      "text/html": "<div>\n<style scoped>\n    .dataframe tbody tr th:only-of-type {\n        vertical-align: middle;\n    }\n\n    .dataframe tbody tr th {\n        vertical-align: top;\n    }\n\n    .dataframe thead th {\n        text-align: right;\n    }\n</style>\n<table border=\"1\" class=\"dataframe\">\n  <thead>\n    <tr style=\"text-align: right;\">\n      <th></th>\n      <th>DGN</th>\n      <th>PRE4</th>\n      <th>PRE5</th>\n      <th>PRE6</th>\n      <th>PRE7</th>\n      <th>PRE8</th>\n      <th>PRE9</th>\n      <th>PRE10</th>\n      <th>PRE11</th>\n      <th>PRE14</th>\n      <th>PRE17</th>\n      <th>PRE19</th>\n      <th>PRE25</th>\n      <th>PRE30</th>\n      <th>PRE32</th>\n      <th>AGE</th>\n      <th>Risk1Yr</th>\n    </tr>\n  </thead>\n  <tbody>\n    <tr>\n      <th>0</th>\n      <td>b'DGN2'</td>\n      <td>2.88</td>\n      <td>2.16</td>\n      <td>b'PRZ1'</td>\n      <td>b'F'</td>\n      <td>b'F'</td>\n      <td>b'F'</td>\n      <td>b'T'</td>\n      <td>b'T'</td>\n      <td>b'OC14'</td>\n      <td>b'F'</td>\n      <td>b'F'</td>\n      <td>b'F'</td>\n      <td>b'T'</td>\n      <td>b'F'</td>\n      <td>60.0</td>\n      <td>b'F'</td>\n    </tr>\n    <tr>\n      <th>1</th>\n      <td>b'DGN3'</td>\n      <td>3.40</td>\n      <td>1.88</td>\n      <td>b'PRZ0'</td>\n      <td>b'F'</td>\n      <td>b'F'</td>\n      <td>b'F'</td>\n      <td>b'F'</td>\n      <td>b'F'</td>\n      <td>b'OC12'</td>\n      <td>b'F'</td>\n      <td>b'F'</td>\n      <td>b'F'</td>\n      <td>b'T'</td>\n      <td>b'F'</td>\n      <td>51.0</td>\n      <td>b'F'</td>\n    </tr>\n    <tr>\n      <th>2</th>\n      <td>b'DGN3'</td>\n      <td>2.76</td>\n      <td>2.08</td>\n      <td>b'PRZ1'</td>\n      <td>b'F'</td>\n      <td>b'F'</td>\n      <td>b'F'</td>\n      <td>b'T'</td>\n      <td>b'F'</td>\n      <td>b'OC11'</td>\n      <td>b'F'</td>\n      <td>b'F'</td>\n      <td>b'F'</td>\n      <td>b'T'</td>\n      <td>b'F'</td>\n      <td>59.0</td>\n      <td>b'F'</td>\n    </tr>\n    <tr>\n      <th>3</th>\n      <td>b'DGN3'</td>\n      <td>3.68</td>\n      <td>3.04</td>\n      <td>b'PRZ0'</td>\n      <td>b'F'</td>\n      <td>b'F'</td>\n      <td>b'F'</td>\n      <td>b'F'</td>\n      <td>b'F'</td>\n      <td>b'OC11'</td>\n      <td>b'F'</td>\n      <td>b'F'</td>\n      <td>b'F'</td>\n      <td>b'F'</td>\n      <td>b'F'</td>\n      <td>54.0</td>\n      <td>b'F'</td>\n    </tr>\n    <tr>\n      <th>4</th>\n      <td>b'DGN3'</td>\n      <td>2.44</td>\n      <td>0.96</td>\n      <td>b'PRZ2'</td>\n      <td>b'F'</td>\n      <td>b'T'</td>\n      <td>b'F'</td>\n      <td>b'T'</td>\n      <td>b'T'</td>\n      <td>b'OC11'</td>\n      <td>b'F'</td>\n      <td>b'F'</td>\n      <td>b'F'</td>\n      <td>b'T'</td>\n      <td>b'F'</td>\n      <td>73.0</td>\n      <td>b'T'</td>\n    </tr>\n  </tbody>\n</table>\n</div>"
     },
     "execution_count": 19,
     "metadata": {},
     "output_type": "execute_result"
    }
   ],
   "source": [
    "# Load the dataset into a dataframe\n",
    "data = arff.loadarff('data/ThoraricSurgery.arff')\n",
    "df = pd.DataFrame(data[0])\n",
    "\n",
    "df.head()"
   ],
   "metadata": {
    "collapsed": false,
    "pycharm": {
     "name": "#%%\n"
    }
   }
  },
  {
   "cell_type": "markdown",
   "source": [
    "### Rename columns:"
   ],
   "metadata": {
    "collapsed": false,
    "pycharm": {
     "name": "#%% md\n"
    }
   }
  },
  {
   "cell_type": "code",
   "execution_count": 20,
   "outputs": [
    {
     "data": {
      "text/plain": "Index(['Diagnosis', 'FVC', 'FEV', 'PerfStat', 'Pain', 'Hae', 'Dys', 'Cough',\n       'Weak', 'TNM', 'T2Diab', 'MI', 'PAD', 'Smoker', 'Asthma', 'Age',\n       'Target'],\n      dtype='object')"
     },
     "execution_count": 20,
     "metadata": {},
     "output_type": "execute_result"
    }
   ],
   "source": [
    "# First let's convert the column names to something more readable:\n",
    "surgery_df = df.rename(columns=\n",
    "                 {'DGN':'Diagnosis',\n",
    "                  'PRE4':'FVC',\n",
    "                  'PRE5':'FEV',\n",
    "                  'PRE6':'PerfStat',\n",
    "                  'PRE7':'Pain',\n",
    "                  'PRE8':'Hae',\n",
    "                  'PRE9':'Dys',\n",
    "                  'PRE10':'Cough',\n",
    "                  'PRE11':'Weak',\n",
    "                  'PRE14':'TNM',\n",
    "                  'PRE17':'T2Diab',\n",
    "                  'PRE19':'MI',\n",
    "                  'PRE25':'PAD',\n",
    "                  'PRE30':'Smoker',\n",
    "                  'PRE32':'Asthma',\n",
    "                  'AGE':'Age',\n",
    "                  'Risk1Yr':'Target'})\n",
    "\n",
    "surgery_df.columns\n"
   ],
   "metadata": {
    "collapsed": false,
    "pycharm": {
     "name": "#%%\n"
    }
   }
  },
  {
   "cell_type": "markdown",
   "source": [
    "### Count rows & columns:"
   ],
   "metadata": {
    "collapsed": false
   }
  },
  {
   "cell_type": "code",
   "execution_count": 21,
   "outputs": [
    {
     "data": {
      "text/plain": "(470, 17)"
     },
     "execution_count": 21,
     "metadata": {},
     "output_type": "execute_result"
    }
   ],
   "source": [
    "surgery_df.shape"
   ],
   "metadata": {
    "collapsed": false,
    "pycharm": {
     "name": "#%%\n"
    }
   }
  },
  {
   "cell_type": "markdown",
   "source": [
    "### Check for null values:"
   ],
   "metadata": {
    "collapsed": false
   }
  },
  {
   "cell_type": "code",
   "execution_count": 9,
   "outputs": [
    {
     "data": {
      "text/plain": "Diagnosis    0\nFVC          0\nFEV          0\nPerfStat     0\nPain         0\nHae          0\nDys          0\nCough        0\nWeak         0\nTNM          0\nT2Diab       0\nMI           0\nPAD          0\nSmoker       0\nAsthma       0\nAge          0\nTarget       0\ndtype: int64"
     },
     "execution_count": 9,
     "metadata": {},
     "output_type": "execute_result"
    }
   ],
   "source": [
    "surgery_df.isna().sum()"
   ],
   "metadata": {
    "collapsed": false,
    "pycharm": {
     "name": "#%%\n"
    }
   }
  },
  {
   "cell_type": "markdown",
   "source": [
    "#### No null values so we will not need to impute values.\n",
    "\n",
    "### Check Datatypes:"
   ],
   "metadata": {
    "collapsed": false
   }
  },
  {
   "cell_type": "code",
   "execution_count": 10,
   "outputs": [
    {
     "data": {
      "text/plain": "Diagnosis     object\nFVC          float64\nFEV          float64\nPerfStat      object\nPain          object\nHae           object\nDys           object\nCough         object\nWeak          object\nTNM           object\nT2Diab        object\nMI            object\nPAD           object\nSmoker        object\nAsthma        object\nAge          float64\nTarget        object\ndtype: object"
     },
     "execution_count": 10,
     "metadata": {},
     "output_type": "execute_result"
    }
   ],
   "source": [
    "surgery_df.dtypes"
   ],
   "metadata": {
    "collapsed": false,
    "pycharm": {
     "name": "#%%\n"
    }
   }
  },
  {
   "cell_type": "markdown",
   "source": [
    "### Convert the objects to numerical data type:"
   ],
   "metadata": {
    "collapsed": false
   }
  },
  {
   "cell_type": "code",
   "execution_count": 11,
   "outputs": [
    {
     "data": {
      "text/plain": "  Diagnosis   FVC   FEV PerfStat Pain Hae Dys Cough Weak   TNM T2Diab MI PAD  \\\n0      DGN2  2.88  2.16     PRZ1    F   F   F     T    T  OC14      F  F   F   \n1      DGN3  3.40  1.88     PRZ0    F   F   F     F    F  OC12      F  F   F   \n2      DGN3  2.76  2.08     PRZ1    F   F   F     T    F  OC11      F  F   F   \n3      DGN3  3.68  3.04     PRZ0    F   F   F     F    F  OC11      F  F   F   \n4      DGN3  2.44  0.96     PRZ2    F   T   F     T    T  OC11      F  F   F   \n\n  Smoker Asthma   Age Target  \n0      T      F  60.0      F  \n1      T      F  51.0      F  \n2      T      F  59.0      F  \n3      F      F  54.0      F  \n4      T      F  73.0      T  ",
      "text/html": "<div>\n<style scoped>\n    .dataframe tbody tr th:only-of-type {\n        vertical-align: middle;\n    }\n\n    .dataframe tbody tr th {\n        vertical-align: top;\n    }\n\n    .dataframe thead th {\n        text-align: right;\n    }\n</style>\n<table border=\"1\" class=\"dataframe\">\n  <thead>\n    <tr style=\"text-align: right;\">\n      <th></th>\n      <th>Diagnosis</th>\n      <th>FVC</th>\n      <th>FEV</th>\n      <th>PerfStat</th>\n      <th>Pain</th>\n      <th>Hae</th>\n      <th>Dys</th>\n      <th>Cough</th>\n      <th>Weak</th>\n      <th>TNM</th>\n      <th>T2Diab</th>\n      <th>MI</th>\n      <th>PAD</th>\n      <th>Smoker</th>\n      <th>Asthma</th>\n      <th>Age</th>\n      <th>Target</th>\n    </tr>\n  </thead>\n  <tbody>\n    <tr>\n      <th>0</th>\n      <td>DGN2</td>\n      <td>2.88</td>\n      <td>2.16</td>\n      <td>PRZ1</td>\n      <td>F</td>\n      <td>F</td>\n      <td>F</td>\n      <td>T</td>\n      <td>T</td>\n      <td>OC14</td>\n      <td>F</td>\n      <td>F</td>\n      <td>F</td>\n      <td>T</td>\n      <td>F</td>\n      <td>60.0</td>\n      <td>F</td>\n    </tr>\n    <tr>\n      <th>1</th>\n      <td>DGN3</td>\n      <td>3.40</td>\n      <td>1.88</td>\n      <td>PRZ0</td>\n      <td>F</td>\n      <td>F</td>\n      <td>F</td>\n      <td>F</td>\n      <td>F</td>\n      <td>OC12</td>\n      <td>F</td>\n      <td>F</td>\n      <td>F</td>\n      <td>T</td>\n      <td>F</td>\n      <td>51.0</td>\n      <td>F</td>\n    </tr>\n    <tr>\n      <th>2</th>\n      <td>DGN3</td>\n      <td>2.76</td>\n      <td>2.08</td>\n      <td>PRZ1</td>\n      <td>F</td>\n      <td>F</td>\n      <td>F</td>\n      <td>T</td>\n      <td>F</td>\n      <td>OC11</td>\n      <td>F</td>\n      <td>F</td>\n      <td>F</td>\n      <td>T</td>\n      <td>F</td>\n      <td>59.0</td>\n      <td>F</td>\n    </tr>\n    <tr>\n      <th>3</th>\n      <td>DGN3</td>\n      <td>3.68</td>\n      <td>3.04</td>\n      <td>PRZ0</td>\n      <td>F</td>\n      <td>F</td>\n      <td>F</td>\n      <td>F</td>\n      <td>F</td>\n      <td>OC11</td>\n      <td>F</td>\n      <td>F</td>\n      <td>F</td>\n      <td>F</td>\n      <td>F</td>\n      <td>54.0</td>\n      <td>F</td>\n    </tr>\n    <tr>\n      <th>4</th>\n      <td>DGN3</td>\n      <td>2.44</td>\n      <td>0.96</td>\n      <td>PRZ2</td>\n      <td>F</td>\n      <td>T</td>\n      <td>F</td>\n      <td>T</td>\n      <td>T</td>\n      <td>OC11</td>\n      <td>F</td>\n      <td>F</td>\n      <td>F</td>\n      <td>T</td>\n      <td>F</td>\n      <td>73.0</td>\n      <td>T</td>\n    </tr>\n  </tbody>\n</table>\n</div>"
     },
     "execution_count": 11,
     "metadata": {},
     "output_type": "execute_result"
    }
   ],
   "source": [
    "# First convert the ASCII values to strings\n",
    "surgery_df[\"Diagnosis\"] = surgery_df[\"Diagnosis\"].str.decode('utf-8')\n",
    "surgery_df[\"PerfStat\"] = surgery_df[\"PerfStat\"].str.decode('utf-8')\n",
    "surgery_df[\"Pain\"] = surgery_df[\"Pain\"].str.decode('utf-8')\n",
    "surgery_df[\"Hae\"] = surgery_df[\"Hae\"].str.decode('utf-8')\n",
    "surgery_df[\"Dys\"] = surgery_df[\"Dys\"].str.decode('utf-8')\n",
    "surgery_df[\"Cough\"] = surgery_df[\"Cough\"].str.decode('utf-8')\n",
    "surgery_df[\"Weak\"] = surgery_df[\"Weak\"].str.decode('utf-8')\n",
    "surgery_df[\"TNM\"] = surgery_df[\"TNM\"].str.decode('utf-8')\n",
    "surgery_df[\"T2Diab\"] = surgery_df[\"T2Diab\"].str.decode('utf-8')\n",
    "surgery_df[\"MI\"] = surgery_df[\"MI\"].str.decode('utf-8')\n",
    "surgery_df[\"PAD\"] = surgery_df[\"PAD\"].str.decode('utf-8')\n",
    "surgery_df[\"Smoker\"] = surgery_df[\"Smoker\"].str.decode('utf-8')\n",
    "surgery_df[\"Asthma\"] = surgery_df[\"Asthma\"].str.decode('utf-8')\n",
    "surgery_df[\"Target\"] = surgery_df[\"Target\"].str.decode('utf-8')\n",
    "surgery_df.head()"
   ],
   "metadata": {
    "collapsed": false,
    "pycharm": {
     "name": "#%%\n"
    }
   }
  },
  {
   "cell_type": "markdown",
   "source": [
    "### Convert to csv file:"
   ],
   "metadata": {
    "collapsed": false
   }
  },
  {
   "cell_type": "code",
   "execution_count": 12,
   "outputs": [],
   "source": [
    "surgery_df.to_csv('data/clean-arff.csv')"
   ],
   "metadata": {
    "collapsed": false,
    "pycharm": {
     "name": "#%%\n"
    }
   }
  },
  {
   "cell_type": "markdown",
   "source": [
    "### Load the csv file:"
   ],
   "metadata": {
    "collapsed": false
   }
  },
  {
   "cell_type": "code",
   "execution_count": 13,
   "outputs": [
    {
     "data": {
      "text/plain": "   Unnamed: 0 Diagnosis   FVC   FEV PerfStat Pain Hae Dys Cough Weak   TNM  \\\n0           0      DGN2  2.88  2.16     PRZ1    F   F   F     T    T  OC14   \n1           1      DGN3  3.40  1.88     PRZ0    F   F   F     F    F  OC12   \n2           2      DGN3  2.76  2.08     PRZ1    F   F   F     T    F  OC11   \n3           3      DGN3  3.68  3.04     PRZ0    F   F   F     F    F  OC11   \n4           4      DGN3  2.44  0.96     PRZ2    F   T   F     T    T  OC11   \n\n  T2Diab MI PAD Smoker Asthma   Age Target  \n0      F  F   F      T      F  60.0      F  \n1      F  F   F      T      F  51.0      F  \n2      F  F   F      T      F  59.0      F  \n3      F  F   F      F      F  54.0      F  \n4      F  F   F      T      F  73.0      T  ",
      "text/html": "<div>\n<style scoped>\n    .dataframe tbody tr th:only-of-type {\n        vertical-align: middle;\n    }\n\n    .dataframe tbody tr th {\n        vertical-align: top;\n    }\n\n    .dataframe thead th {\n        text-align: right;\n    }\n</style>\n<table border=\"1\" class=\"dataframe\">\n  <thead>\n    <tr style=\"text-align: right;\">\n      <th></th>\n      <th>Unnamed: 0</th>\n      <th>Diagnosis</th>\n      <th>FVC</th>\n      <th>FEV</th>\n      <th>PerfStat</th>\n      <th>Pain</th>\n      <th>Hae</th>\n      <th>Dys</th>\n      <th>Cough</th>\n      <th>Weak</th>\n      <th>TNM</th>\n      <th>T2Diab</th>\n      <th>MI</th>\n      <th>PAD</th>\n      <th>Smoker</th>\n      <th>Asthma</th>\n      <th>Age</th>\n      <th>Target</th>\n    </tr>\n  </thead>\n  <tbody>\n    <tr>\n      <th>0</th>\n      <td>0</td>\n      <td>DGN2</td>\n      <td>2.88</td>\n      <td>2.16</td>\n      <td>PRZ1</td>\n      <td>F</td>\n      <td>F</td>\n      <td>F</td>\n      <td>T</td>\n      <td>T</td>\n      <td>OC14</td>\n      <td>F</td>\n      <td>F</td>\n      <td>F</td>\n      <td>T</td>\n      <td>F</td>\n      <td>60.0</td>\n      <td>F</td>\n    </tr>\n    <tr>\n      <th>1</th>\n      <td>1</td>\n      <td>DGN3</td>\n      <td>3.40</td>\n      <td>1.88</td>\n      <td>PRZ0</td>\n      <td>F</td>\n      <td>F</td>\n      <td>F</td>\n      <td>F</td>\n      <td>F</td>\n      <td>OC12</td>\n      <td>F</td>\n      <td>F</td>\n      <td>F</td>\n      <td>T</td>\n      <td>F</td>\n      <td>51.0</td>\n      <td>F</td>\n    </tr>\n    <tr>\n      <th>2</th>\n      <td>2</td>\n      <td>DGN3</td>\n      <td>2.76</td>\n      <td>2.08</td>\n      <td>PRZ1</td>\n      <td>F</td>\n      <td>F</td>\n      <td>F</td>\n      <td>T</td>\n      <td>F</td>\n      <td>OC11</td>\n      <td>F</td>\n      <td>F</td>\n      <td>F</td>\n      <td>T</td>\n      <td>F</td>\n      <td>59.0</td>\n      <td>F</td>\n    </tr>\n    <tr>\n      <th>3</th>\n      <td>3</td>\n      <td>DGN3</td>\n      <td>3.68</td>\n      <td>3.04</td>\n      <td>PRZ0</td>\n      <td>F</td>\n      <td>F</td>\n      <td>F</td>\n      <td>F</td>\n      <td>F</td>\n      <td>OC11</td>\n      <td>F</td>\n      <td>F</td>\n      <td>F</td>\n      <td>F</td>\n      <td>F</td>\n      <td>54.0</td>\n      <td>F</td>\n    </tr>\n    <tr>\n      <th>4</th>\n      <td>4</td>\n      <td>DGN3</td>\n      <td>2.44</td>\n      <td>0.96</td>\n      <td>PRZ2</td>\n      <td>F</td>\n      <td>T</td>\n      <td>F</td>\n      <td>T</td>\n      <td>T</td>\n      <td>OC11</td>\n      <td>F</td>\n      <td>F</td>\n      <td>F</td>\n      <td>T</td>\n      <td>F</td>\n      <td>73.0</td>\n      <td>T</td>\n    </tr>\n  </tbody>\n</table>\n</div>"
     },
     "execution_count": 13,
     "metadata": {},
     "output_type": "execute_result"
    }
   ],
   "source": [
    "df = pd.read_csv('data/clean-arff.csv')\n",
    "df.head()"
   ],
   "metadata": {
    "collapsed": false,
    "pycharm": {
     "name": "#%%\n"
    }
   }
  },
  {
   "cell_type": "markdown",
   "source": [
    "### Drop the 'Unnamed: 0' column:"
   ],
   "metadata": {
    "collapsed": false
   }
  },
  {
   "cell_type": "code",
   "execution_count": 14,
   "outputs": [],
   "source": [
    "new_df = df.drop(columns=['Unnamed: 0'])"
   ],
   "metadata": {
    "collapsed": false,
    "pycharm": {
     "name": "#%%\n"
    }
   }
  },
  {
   "cell_type": "markdown",
   "source": [
    "### Convert binary T/F categories to int:"
   ],
   "metadata": {
    "collapsed": false
   }
  },
  {
   "cell_type": "code",
   "execution_count": 15,
   "outputs": [
    {
     "data": {
      "text/plain": "  Diagnosis   FVC   FEV PerfStat  Pain  Hae  Dys  Cough  Weak   TNM  T2Diab  \\\n0      DGN2  2.88  2.16     PRZ1     0    0    0      1     1  OC14       0   \n1      DGN3  3.40  1.88     PRZ0     0    0    0      0     0  OC12       0   \n2      DGN3  2.76  2.08     PRZ1     0    0    0      1     0  OC11       0   \n3      DGN3  3.68  3.04     PRZ0     0    0    0      0     0  OC11       0   \n4      DGN3  2.44  0.96     PRZ2     0    1    0      1     1  OC11       0   \n\n   MI  PAD  Smoker  Asthma   Age  Target  \n0   0    0       1       0  60.0       0  \n1   0    0       1       0  51.0       0  \n2   0    0       1       0  59.0       0  \n3   0    0       0       0  54.0       0  \n4   0    0       1       0  73.0       1  ",
      "text/html": "<div>\n<style scoped>\n    .dataframe tbody tr th:only-of-type {\n        vertical-align: middle;\n    }\n\n    .dataframe tbody tr th {\n        vertical-align: top;\n    }\n\n    .dataframe thead th {\n        text-align: right;\n    }\n</style>\n<table border=\"1\" class=\"dataframe\">\n  <thead>\n    <tr style=\"text-align: right;\">\n      <th></th>\n      <th>Diagnosis</th>\n      <th>FVC</th>\n      <th>FEV</th>\n      <th>PerfStat</th>\n      <th>Pain</th>\n      <th>Hae</th>\n      <th>Dys</th>\n      <th>Cough</th>\n      <th>Weak</th>\n      <th>TNM</th>\n      <th>T2Diab</th>\n      <th>MI</th>\n      <th>PAD</th>\n      <th>Smoker</th>\n      <th>Asthma</th>\n      <th>Age</th>\n      <th>Target</th>\n    </tr>\n  </thead>\n  <tbody>\n    <tr>\n      <th>0</th>\n      <td>DGN2</td>\n      <td>2.88</td>\n      <td>2.16</td>\n      <td>PRZ1</td>\n      <td>0</td>\n      <td>0</td>\n      <td>0</td>\n      <td>1</td>\n      <td>1</td>\n      <td>OC14</td>\n      <td>0</td>\n      <td>0</td>\n      <td>0</td>\n      <td>1</td>\n      <td>0</td>\n      <td>60.0</td>\n      <td>0</td>\n    </tr>\n    <tr>\n      <th>1</th>\n      <td>DGN3</td>\n      <td>3.40</td>\n      <td>1.88</td>\n      <td>PRZ0</td>\n      <td>0</td>\n      <td>0</td>\n      <td>0</td>\n      <td>0</td>\n      <td>0</td>\n      <td>OC12</td>\n      <td>0</td>\n      <td>0</td>\n      <td>0</td>\n      <td>1</td>\n      <td>0</td>\n      <td>51.0</td>\n      <td>0</td>\n    </tr>\n    <tr>\n      <th>2</th>\n      <td>DGN3</td>\n      <td>2.76</td>\n      <td>2.08</td>\n      <td>PRZ1</td>\n      <td>0</td>\n      <td>0</td>\n      <td>0</td>\n      <td>1</td>\n      <td>0</td>\n      <td>OC11</td>\n      <td>0</td>\n      <td>0</td>\n      <td>0</td>\n      <td>1</td>\n      <td>0</td>\n      <td>59.0</td>\n      <td>0</td>\n    </tr>\n    <tr>\n      <th>3</th>\n      <td>DGN3</td>\n      <td>3.68</td>\n      <td>3.04</td>\n      <td>PRZ0</td>\n      <td>0</td>\n      <td>0</td>\n      <td>0</td>\n      <td>0</td>\n      <td>0</td>\n      <td>OC11</td>\n      <td>0</td>\n      <td>0</td>\n      <td>0</td>\n      <td>0</td>\n      <td>0</td>\n      <td>54.0</td>\n      <td>0</td>\n    </tr>\n    <tr>\n      <th>4</th>\n      <td>DGN3</td>\n      <td>2.44</td>\n      <td>0.96</td>\n      <td>PRZ2</td>\n      <td>0</td>\n      <td>1</td>\n      <td>0</td>\n      <td>1</td>\n      <td>1</td>\n      <td>OC11</td>\n      <td>0</td>\n      <td>0</td>\n      <td>0</td>\n      <td>1</td>\n      <td>0</td>\n      <td>73.0</td>\n      <td>1</td>\n    </tr>\n  </tbody>\n</table>\n</div>"
     },
     "execution_count": 15,
     "metadata": {},
     "output_type": "execute_result"
    }
   ],
   "source": [
    "new_df[['Pain', 'Hae', 'Dys', 'Cough', 'Weak', 'T2Diab', 'MI', 'PAD', 'Smoker', 'Asthma', 'Target']] = (new_df[['Pain', 'Hae', 'Dys', 'Cough', 'Weak', 'T2Diab', 'MI', 'PAD', 'Smoker', 'Asthma', 'Target']] == 'T').astype(int)\n",
    "new_df.head()"
   ],
   "metadata": {
    "collapsed": false,
    "pycharm": {
     "name": "#%%\n"
    }
   }
  },
  {
   "cell_type": "markdown",
   "source": [
    "### Convert category columns to int:"
   ],
   "metadata": {
    "collapsed": false
   }
  },
  {
   "cell_type": "code",
   "execution_count": 16,
   "outputs": [
    {
     "data": {
      "text/plain": "   Diagnosis   FVC   FEV  PerfStat  Pain  Hae  Dys  Cough  Weak  TNM  T2Diab  \\\n0          2  2.88  2.16         1     0    0    0      1     1    4       0   \n1          3  3.40  1.88         0     0    0    0      0     0    2       0   \n2          3  2.76  2.08         1     0    0    0      1     0    1       0   \n3          3  3.68  3.04         0     0    0    0      0     0    1       0   \n4          3  2.44  0.96         2     0    1    0      1     1    1       0   \n\n   MI  PAD  Smoker  Asthma   Age  Target  \n0   0    0       1       0  60.0       0  \n1   0    0       1       0  51.0       0  \n2   0    0       1       0  59.0       0  \n3   0    0       0       0  54.0       0  \n4   0    0       1       0  73.0       1  ",
      "text/html": "<div>\n<style scoped>\n    .dataframe tbody tr th:only-of-type {\n        vertical-align: middle;\n    }\n\n    .dataframe tbody tr th {\n        vertical-align: top;\n    }\n\n    .dataframe thead th {\n        text-align: right;\n    }\n</style>\n<table border=\"1\" class=\"dataframe\">\n  <thead>\n    <tr style=\"text-align: right;\">\n      <th></th>\n      <th>Diagnosis</th>\n      <th>FVC</th>\n      <th>FEV</th>\n      <th>PerfStat</th>\n      <th>Pain</th>\n      <th>Hae</th>\n      <th>Dys</th>\n      <th>Cough</th>\n      <th>Weak</th>\n      <th>TNM</th>\n      <th>T2Diab</th>\n      <th>MI</th>\n      <th>PAD</th>\n      <th>Smoker</th>\n      <th>Asthma</th>\n      <th>Age</th>\n      <th>Target</th>\n    </tr>\n  </thead>\n  <tbody>\n    <tr>\n      <th>0</th>\n      <td>2</td>\n      <td>2.88</td>\n      <td>2.16</td>\n      <td>1</td>\n      <td>0</td>\n      <td>0</td>\n      <td>0</td>\n      <td>1</td>\n      <td>1</td>\n      <td>4</td>\n      <td>0</td>\n      <td>0</td>\n      <td>0</td>\n      <td>1</td>\n      <td>0</td>\n      <td>60.0</td>\n      <td>0</td>\n    </tr>\n    <tr>\n      <th>1</th>\n      <td>3</td>\n      <td>3.40</td>\n      <td>1.88</td>\n      <td>0</td>\n      <td>0</td>\n      <td>0</td>\n      <td>0</td>\n      <td>0</td>\n      <td>0</td>\n      <td>2</td>\n      <td>0</td>\n      <td>0</td>\n      <td>0</td>\n      <td>1</td>\n      <td>0</td>\n      <td>51.0</td>\n      <td>0</td>\n    </tr>\n    <tr>\n      <th>2</th>\n      <td>3</td>\n      <td>2.76</td>\n      <td>2.08</td>\n      <td>1</td>\n      <td>0</td>\n      <td>0</td>\n      <td>0</td>\n      <td>1</td>\n      <td>0</td>\n      <td>1</td>\n      <td>0</td>\n      <td>0</td>\n      <td>0</td>\n      <td>1</td>\n      <td>0</td>\n      <td>59.0</td>\n      <td>0</td>\n    </tr>\n    <tr>\n      <th>3</th>\n      <td>3</td>\n      <td>3.68</td>\n      <td>3.04</td>\n      <td>0</td>\n      <td>0</td>\n      <td>0</td>\n      <td>0</td>\n      <td>0</td>\n      <td>0</td>\n      <td>1</td>\n      <td>0</td>\n      <td>0</td>\n      <td>0</td>\n      <td>0</td>\n      <td>0</td>\n      <td>54.0</td>\n      <td>0</td>\n    </tr>\n    <tr>\n      <th>4</th>\n      <td>3</td>\n      <td>2.44</td>\n      <td>0.96</td>\n      <td>2</td>\n      <td>0</td>\n      <td>1</td>\n      <td>0</td>\n      <td>1</td>\n      <td>1</td>\n      <td>1</td>\n      <td>0</td>\n      <td>0</td>\n      <td>0</td>\n      <td>1</td>\n      <td>0</td>\n      <td>73.0</td>\n      <td>1</td>\n    </tr>\n  </tbody>\n</table>\n</div>"
     },
     "execution_count": 16,
     "metadata": {},
     "output_type": "execute_result"
    }
   ],
   "source": [
    "new_df['Diagnosis'] = new_df['Diagnosis'].str[-1:].astype(int)\n",
    "new_df['PerfStat'] = new_df['PerfStat'].str[-1:].astype(int)\n",
    "new_df['TNM'] = new_df['TNM'].str[-1:].astype(int)\n",
    "new_df.head()"
   ],
   "metadata": {
    "collapsed": false,
    "pycharm": {
     "name": "#%%\n"
    }
   }
  },
  {
   "cell_type": "markdown",
   "source": [
    "### Save clean data to new csv:"
   ],
   "metadata": {
    "collapsed": false
   }
  },
  {
   "cell_type": "code",
   "execution_count": 22,
   "outputs": [],
   "source": [
    "new_df.to_csv('data/clean-surgery-data.csv')"
   ],
   "metadata": {
    "collapsed": false,
    "pycharm": {
     "name": "#%%\n"
    }
   }
  },
  {
   "cell_type": "code",
   "execution_count": null,
   "outputs": [],
   "source": [
    "\n"
   ],
   "metadata": {
    "collapsed": false,
    "pycharm": {
     "name": "#%%\n"
    }
   }
  }
 ],
 "metadata": {
  "kernelspec": {
   "display_name": "Python 3",
   "language": "python",
   "name": "python3"
  },
  "language_info": {
   "codemirror_mode": {
    "name": "ipython",
    "version": 2
   },
   "file_extension": ".py",
   "mimetype": "text/x-python",
   "name": "python",
   "nbconvert_exporter": "python",
   "pygments_lexer": "ipython2",
   "version": "2.7.6"
  }
 },
 "nbformat": 4,
 "nbformat_minor": 0
}