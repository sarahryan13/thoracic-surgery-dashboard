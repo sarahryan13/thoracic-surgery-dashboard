{
 "cells": [
  {
   "cell_type": "code",
   "execution_count": 112,
   "metadata": {
    "collapsed": true
   },
   "outputs": [],
   "source": [
    "import pickle\n",
    "import pandas as pd\n",
    "import numpy as np\n",
    "import matplotlib.pyplot as plt\n",
    "import seaborn as sns\n",
    "\n",
    "from sklearn.ensemble import RandomForestClassifier\n",
    "from sklearn.metrics import accuracy_score, confusion_matrix, classification_report, precision_score\n",
    "from sklearn.model_selection import train_test_split, cross_val_score, RandomizedSearchCV\n",
    "from sklearn.preprocessing import StandardScaler"
   ]
  },
  {
   "cell_type": "code",
   "execution_count": 113,
   "outputs": [
    {
     "data": {
      "text/plain": "   Diagnosis   FVC   FEV  PerfStat  Pain  Hae  Dys  Cough  Weak  TNM  T2Diab  \\\n0          2  2.88  2.16         1     0    0    0      1     1    4       0   \n1          3  3.40  1.88         0     0    0    0      0     0    2       0   \n2          3  2.76  2.08         1     0    0    0      1     0    1       0   \n3          3  3.68  3.04         0     0    0    0      0     0    1       0   \n4          3  2.44  0.96         2     0    1    0      1     1    1       0   \n\n   MI  PAD  Smoker  Asthma   Age  Target  \n0   0    0       1       0  60.0       0  \n1   0    0       1       0  51.0       0  \n2   0    0       1       0  59.0       0  \n3   0    0       0       0  54.0       0  \n4   0    0       1       0  73.0       1  ",
      "text/html": "<div>\n<style scoped>\n    .dataframe tbody tr th:only-of-type {\n        vertical-align: middle;\n    }\n\n    .dataframe tbody tr th {\n        vertical-align: top;\n    }\n\n    .dataframe thead th {\n        text-align: right;\n    }\n</style>\n<table border=\"1\" class=\"dataframe\">\n  <thead>\n    <tr style=\"text-align: right;\">\n      <th></th>\n      <th>Diagnosis</th>\n      <th>FVC</th>\n      <th>FEV</th>\n      <th>PerfStat</th>\n      <th>Pain</th>\n      <th>Hae</th>\n      <th>Dys</th>\n      <th>Cough</th>\n      <th>Weak</th>\n      <th>TNM</th>\n      <th>T2Diab</th>\n      <th>MI</th>\n      <th>PAD</th>\n      <th>Smoker</th>\n      <th>Asthma</th>\n      <th>Age</th>\n      <th>Target</th>\n    </tr>\n  </thead>\n  <tbody>\n    <tr>\n      <th>0</th>\n      <td>2</td>\n      <td>2.88</td>\n      <td>2.16</td>\n      <td>1</td>\n      <td>0</td>\n      <td>0</td>\n      <td>0</td>\n      <td>1</td>\n      <td>1</td>\n      <td>4</td>\n      <td>0</td>\n      <td>0</td>\n      <td>0</td>\n      <td>1</td>\n      <td>0</td>\n      <td>60.0</td>\n      <td>0</td>\n    </tr>\n    <tr>\n      <th>1</th>\n      <td>3</td>\n      <td>3.40</td>\n      <td>1.88</td>\n      <td>0</td>\n      <td>0</td>\n      <td>0</td>\n      <td>0</td>\n      <td>0</td>\n      <td>0</td>\n      <td>2</td>\n      <td>0</td>\n      <td>0</td>\n      <td>0</td>\n      <td>1</td>\n      <td>0</td>\n      <td>51.0</td>\n      <td>0</td>\n    </tr>\n    <tr>\n      <th>2</th>\n      <td>3</td>\n      <td>2.76</td>\n      <td>2.08</td>\n      <td>1</td>\n      <td>0</td>\n      <td>0</td>\n      <td>0</td>\n      <td>1</td>\n      <td>0</td>\n      <td>1</td>\n      <td>0</td>\n      <td>0</td>\n      <td>0</td>\n      <td>1</td>\n      <td>0</td>\n      <td>59.0</td>\n      <td>0</td>\n    </tr>\n    <tr>\n      <th>3</th>\n      <td>3</td>\n      <td>3.68</td>\n      <td>3.04</td>\n      <td>0</td>\n      <td>0</td>\n      <td>0</td>\n      <td>0</td>\n      <td>0</td>\n      <td>0</td>\n      <td>1</td>\n      <td>0</td>\n      <td>0</td>\n      <td>0</td>\n      <td>0</td>\n      <td>0</td>\n      <td>54.0</td>\n      <td>0</td>\n    </tr>\n    <tr>\n      <th>4</th>\n      <td>3</td>\n      <td>2.44</td>\n      <td>0.96</td>\n      <td>2</td>\n      <td>0</td>\n      <td>1</td>\n      <td>0</td>\n      <td>1</td>\n      <td>1</td>\n      <td>1</td>\n      <td>0</td>\n      <td>0</td>\n      <td>0</td>\n      <td>1</td>\n      <td>0</td>\n      <td>73.0</td>\n      <td>1</td>\n    </tr>\n  </tbody>\n</table>\n</div>"
     },
     "execution_count": 113,
     "metadata": {},
     "output_type": "execute_result"
    }
   ],
   "source": [
    "# Load csv data\n",
    "df = pd.read_csv('data/clean-surgery-data.csv')\n",
    "df.drop(columns=['Unnamed: 0'], inplace=True)\n",
    "df.head()"
   ],
   "metadata": {
    "collapsed": false,
    "pycharm": {
     "name": "#%%\n"
    }
   }
  },
  {
   "cell_type": "code",
   "execution_count": 107,
   "outputs": [
    {
     "name": "stdout",
     "output_type": "stream",
     "text": [
      "Accuracy:  0.8368794326241135\n",
      "Score:  0.8368794326241135\n"
     ]
    }
   ],
   "source": [
    "ml_df = df.drop(columns=['FEV', 'PerfStat', 'Cough', 'MI', 'Asthma', 'Age'])\n",
    "X = ml_df.drop(\"Target\", axis=1)\n",
    "y = ml_df[\"Target\"]\n",
    "X_scaled = StandardScaler().fit_transform(X)\n",
    "np.random.seed(42)\n",
    "X_train, X_test, y_train, y_test = train_test_split(X_scaled,\n",
    "                                                        y,\n",
    "                                                        stratify=y,\n",
    "                                                        test_size=0.3)\n",
    "clf = RandomForestClassifier(n_estimators=100,\n",
    "                             n_jobs=-1,\n",
    "                             oob_score=True)\n",
    "clf.fit(X_train, y_train)\n",
    "y_pred = clf.predict(X_test)\n",
    "\n",
    "# Save a pickle of the model\n",
    "f = open('prediction_model.pkl', 'wb')\n",
    "pickle.dump(clf, f)\n",
    "f.close()\n",
    "\n",
    "print(\"Accuracy: \", accuracy_score(y_test, y_pred))\n",
    "print(\"Score: \", clf.score(X_test, y_test))"
   ],
   "metadata": {
    "collapsed": false,
    "pycharm": {
     "name": "#%%\n"
    }
   }
  },
  {
   "cell_type": "code",
   "execution_count": 108,
   "outputs": [
    {
     "name": "stdout",
     "output_type": "stream",
     "text": [
      "Accuracy: 81.818182%\n",
      "Accuracy: 81.818182%\n",
      "Accuracy: 87.878788%\n",
      "Accuracy: 75.757576%\n",
      "Accuracy: 81.818182%\n",
      "Accuracy: 81.818182%\n",
      "Accuracy: 84.848485%\n",
      "Accuracy: 78.787879%\n",
      "Accuracy: 87.878788%\n",
      "Accuracy: 78.125000%\n",
      " \n",
      "Mean accuracy is  0.8205492424242424\n"
     ]
    }
   ],
   "source": [
    "v = cross_val_score(clf, X_train, y_train, cv=10)\n",
    "for i in range(10):\n",
    "    print(\"Accuracy: {0:2%}\".format(v[i,]))\n",
    "print(\" \")\n",
    "print(\"Mean accuracy is \", v.mean())\n",
    "\n"
   ],
   "metadata": {
    "collapsed": false,
    "pycharm": {
     "name": "#%%\n"
    }
   }
  },
  {
   "cell_type": "code",
   "execution_count": 109,
   "outputs": [
    {
     "name": "stdout",
     "output_type": "stream",
     "text": [
      "[[114   6]\n",
      " [ 19   2]]\n"
     ]
    }
   ],
   "source": [
    "# Confusion Matrix\n",
    "fit = clf.fit(X_train, y_train)\n",
    "predict = fit.predict(X_test)\n",
    "cm = confusion_matrix(y_test, predict)\n",
    "print(cm)\n",
    "\n"
   ],
   "metadata": {
    "collapsed": false,
    "pycharm": {
     "name": "#%%\n"
    }
   }
  },
  {
   "cell_type": "code",
   "execution_count": 110,
   "outputs": [
    {
     "data": {
      "text/plain": "<Figure size 432x288 with 2 Axes>",
      "image/png": "[encoded data removed]"
     },
     "metadata": {
      "needs_background": "light"
     },
     "output_type": "display_data"
    }
   ],
   "source": [
    "sns.heatmap(cm, annot=True, cmap = 'Blues')\n",
    "plt.show()\n",
    "\n"
   ],
   "metadata": {
    "collapsed": false,
    "pycharm": {
     "name": "#%%\n"
    }
   }
  },
  {
   "cell_type": "code",
   "execution_count": 111,
   "outputs": [
    {
     "name": "stdout",
     "output_type": "stream",
     "text": [
      "              precision    recall  f1-score   support\n",
      "\n",
      "           0       0.86      0.95      0.90       120\n",
      "           1       0.25      0.10      0.14        21\n",
      "\n",
      "    accuracy                           0.82       141\n",
      "   macro avg       0.55      0.52      0.52       141\n",
      "weighted avg       0.77      0.82      0.79       141\n",
      "\n"
     ]
    }
   ],
   "source": [
    "print(classification_report(y_test, predict, zero_division=1))"
   ],
   "metadata": {
    "collapsed": false,
    "pycharm": {
     "name": "#%%\n"
    }
   }
  },
  {
   "cell_type": "code",
   "execution_count": 114,
   "outputs": [
    {
     "name": "stdout",
     "output_type": "stream",
     "text": [
      "Fitting 5 folds for each of 10 candidates, totalling 50 fits\n"
     ]
    },
    {
     "name": "stderr",
     "output_type": "stream",
     "text": [
      "[Parallel(n_jobs=1)]: Using backend SequentialBackend with 1 concurrent workers.\n",
      "[Parallel(n_jobs=1)]: Done  50 out of  50 | elapsed:   38.3s finished\n"
     ]
    },
    {
     "data": {
      "text/plain": "{'n_estimators': 10,\n 'min_samples_split': 16,\n 'min_samples_leaf': 9,\n 'max_depth': None}"
     },
     "execution_count": 114,
     "metadata": {},
     "output_type": "execute_result"
    }
   ],
   "source": [
    "# Create a hyperparameter grid for RandomForestClassifier\n",
    "rf_grid = {\"n_estimators\": np.arange(10, 1000, 50),\n",
    "          \"max_depth\": [None, 3, 5, 10],\n",
    "          \"min_samples_split\": np.arange(2, 20, 2),\n",
    "          \"min_samples_leaf\": np.arange(1, 20, 2)}\n",
    "\n",
    "# Tune RandomForestClassifier\n",
    "np.random.seed(42)\n",
    "\n",
    "# Setup random hyperparameter search for RandomForestClassifier\n",
    "rs_rf = RandomizedSearchCV(RandomForestClassifier(),\n",
    "                           param_distributions=rf_grid,\n",
    "                           cv=5,\n",
    "                           n_iter=10,\n",
    "                           verbose=True)\n",
    "\n",
    "# Fit random hyperparameter search for RandomForestClassifier\n",
    "rs_rf.fit(X_train, y_train)\n",
    "rs_rf.best_params_"
   ],
   "metadata": {
    "collapsed": false,
    "pycharm": {
     "name": "#%%\n"
    }
   }
  },
  {
   "cell_type": "markdown",
   "source": [
    "\n"
   ],
   "metadata": {
    "collapsed": false
   }
  }
 ],
 "metadata": {
  "kernelspec": {
   "display_name": "Python 3",
   "language": "python",
   "name": "python3"
  },
  "language_info": {
   "codemirror_mode": {
    "name": "ipython",
    "version": 2
   },
   "file_extension": ".py",
   "mimetype": "text/x-python",
   "name": "python",
   "nbconvert_exporter": "python",
   "pygments_lexer": "ipython2",
   "version": "2.7.6"
  }
 },
 "nbformat": 4,
 "nbformat_minor": 0
}